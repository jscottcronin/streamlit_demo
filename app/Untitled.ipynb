{
 "cells": [
  {
   "cell_type": "code",
   "execution_count": 1,
   "metadata": {},
   "outputs": [],
   "source": [
    "%reload_ext autoreload\n",
    "%autoreload 2"
   ]
  },
  {
   "cell_type": "code",
   "execution_count": 96,
   "metadata": {},
   "outputs": [],
   "source": [
    "%matplotlib inline\n",
    "\n",
    "import torchvision as tv\n",
    "import torch\n",
    "from pathlib import Path\n",
    "from PIL import Image\n",
    "from glob import glob\n",
    "import matplotlib.pyplot as plt\n",
    "\n",
    "import seaborn as sns"
   ]
  },
  {
   "cell_type": "code",
   "execution_count": 32,
   "metadata": {},
   "outputs": [
    {
     "data": {
      "text/plain": [
       "['dylan.jpeg', 'soiree.jpeg', 'another_soiree.jpeg']"
      ]
     },
     "execution_count": 32,
     "metadata": {},
     "output_type": "execute_result"
    }
   ],
   "source": [
    "def load_data():\n",
    "    filepaths = glob('imgs/*.jpeg')\n",
    "    images = [Image.open(fp).convert(\"RGB\") for fp in filepaths]\n",
    "    names = [Path(fp).name for fp in filepaths]\n",
    "\n",
    "    return names, images\n",
    "\n",
    "names, images = load_data()\n",
    "names"
   ]
  },
  {
   "cell_type": "code",
   "execution_count": 33,
   "metadata": {},
   "outputs": [],
   "source": [
    "idx = 1"
   ]
  },
  {
   "cell_type": "code",
   "execution_count": 34,
   "metadata": {},
   "outputs": [
    {
     "data": {
      "text/plain": [
       "{'boxes': tensor([[1.0035e+02, 1.4694e+02, 2.6030e+02, 2.8213e+02],\n",
       "         [3.1692e+02, 1.3695e+02, 3.6976e+02, 2.1682e+02],\n",
       "         [6.1224e+01, 1.3969e+02, 1.5408e+02, 2.7350e+02],\n",
       "         [2.3103e+02, 1.1371e+02, 2.6837e+02, 1.7438e+02],\n",
       "         [1.5476e+01, 1.3955e+02, 9.3408e+01, 2.5749e+02],\n",
       "         [3.7842e+02, 1.3435e+02, 4.5794e+02, 2.5031e+02],\n",
       "         [4.3052e+02, 1.2609e+02, 4.7111e+02, 1.7883e+02],\n",
       "         [2.6400e+02, 1.9297e+02, 3.4751e+02, 2.8170e+02],\n",
       "         [3.7373e+02, 2.1615e+02, 3.9134e+02, 2.5638e+02],\n",
       "         [7.8130e+01, 1.1210e+02, 1.1386e+02, 1.5559e+02],\n",
       "         [2.5942e+02, 1.2162e+02, 2.9552e+02, 1.7309e+02],\n",
       "         [3.5655e+02, 1.2536e+02, 4.0453e+02, 1.7934e+02],\n",
       "         [2.9221e+02, 1.1106e+02, 3.1872e+02, 1.4852e+02],\n",
       "         [3.0555e+02, 1.1765e+02, 3.3969e+02, 1.6965e+02],\n",
       "         [1.8279e+02, 1.2367e+02, 2.3003e+02, 1.7982e+02],\n",
       "         [2.5217e+02, 1.5702e+02, 2.9466e+02, 1.9499e+02],\n",
       "         [3.5974e+02, 2.2426e+02, 3.7937e+02, 2.7179e+02],\n",
       "         [2.2815e+01, 1.2257e+02, 8.2685e+01, 1.8498e+02],\n",
       "         [2.1375e+02, 1.8747e+02, 4.9076e+02, 2.8081e+02],\n",
       "         [3.9283e+02, 1.1220e+02, 4.2043e+02, 1.4709e+02],\n",
       "         [1.5492e+02, 1.1892e+02, 1.8763e+02, 1.5245e+02],\n",
       "         [4.2546e+02, 2.3028e+02, 4.4818e+02, 2.7865e+02],\n",
       "         [1.1165e+02, 1.2365e+02, 1.3986e+02, 1.4751e+02],\n",
       "         [4.2515e+02, 2.2929e+02, 4.4774e+02, 2.8500e+02],\n",
       "         [2.5311e+02, 1.5487e+02, 2.8843e+02, 1.7683e+02],\n",
       "         [3.6421e+02, 1.0918e+02, 3.9473e+02, 1.4189e+02],\n",
       "         [3.6264e+02, 1.8625e+02, 3.8373e+02, 2.1815e+02],\n",
       "         [3.3773e+02, 1.1297e+02, 3.6253e+02, 1.4803e+02],\n",
       "         [2.0633e+02, 1.1401e+02, 2.2939e+02, 1.4417e+02],\n",
       "         [0.0000e+00, 1.0574e+01, 4.5343e+01, 8.5186e+01],\n",
       "         [5.4615e+01, 1.2264e+02, 7.9963e+01, 1.4173e+02],\n",
       "         [4.2953e+02, 1.6602e+02, 4.6955e+02, 1.8761e+02],\n",
       "         [3.1055e+02, 2.0888e+02, 4.9584e+02, 2.8161e+02],\n",
       "         [1.5723e+02, 1.0935e+02, 1.8759e+02, 1.4019e+02],\n",
       "         [3.2549e+02, 1.0814e+02, 3.3970e+02, 1.2318e+02],\n",
       "         [4.2530e+02, 1.1577e+02, 4.4557e+02, 1.4609e+02],\n",
       "         [3.1192e+02, 1.0809e+02, 3.2212e+02, 1.3297e+02],\n",
       "         [2.1520e+02, 1.9424e+02, 2.4060e+02, 2.4813e+02],\n",
       "         [4.1893e+02, 1.1335e+02, 4.4311e+02, 1.3537e+02],\n",
       "         [2.9400e+02, 1.1295e+02, 3.2975e+02, 1.6358e+02],\n",
       "         [2.5883e+02, 1.7113e+02, 2.8996e+02, 1.9871e+02],\n",
       "         [2.2534e+02, 1.7224e+02, 2.5788e+02, 1.9212e+02],\n",
       "         [1.0367e-01, 1.8037e+02, 2.1425e+01, 2.3403e+02],\n",
       "         [2.0143e+02, 1.8207e+02, 2.8869e+02, 2.7193e+02],\n",
       "         [3.3756e+02, 2.2432e+02, 3.6744e+02, 2.7833e+02],\n",
       "         [3.3895e+02, 2.1112e+02, 3.4723e+02, 2.3210e+02],\n",
       "         [3.4023e+02, 2.1138e+02, 3.5154e+02, 2.2893e+02],\n",
       "         [2.7554e+02, 1.7303e+02, 2.8689e+02, 2.0471e+02],\n",
       "         [2.2347e+02, 2.1073e+02, 2.4593e+02, 2.5003e+02],\n",
       "         [1.4494e+02, 3.9542e+01, 2.1698e+02, 8.9868e+01],\n",
       "         [2.3724e+02, 1.2179e+02, 2.4518e+02, 1.3093e+02],\n",
       "         [0.0000e+00, 1.8196e+02, 5.0651e+01, 2.7457e+02],\n",
       "         [3.4914e-01, 1.6261e+02, 2.6196e+01, 2.0475e+02],\n",
       "         [2.2319e+02, 1.4940e+02, 2.4556e+02, 1.7526e+02],\n",
       "         [2.2958e+02, 2.1407e+02, 2.4616e+02, 2.3500e+02],\n",
       "         [8.7739e+01, 1.4621e+02, 1.9360e+02, 2.7021e+02],\n",
       "         [2.2323e+02, 1.4984e+02, 2.3836e+02, 1.6302e+02],\n",
       "         [3.7077e+02, 2.2813e+02, 4.9509e+02, 2.8495e+02],\n",
       "         [1.2955e-01, 1.6882e+02, 2.8607e+01, 2.5775e+02],\n",
       "         [4.2590e+02, 1.1394e+02, 4.4430e+02, 1.2613e+02],\n",
       "         [2.2717e+02, 1.2896e+02, 2.3930e+02, 1.3498e+02],\n",
       "         [3.6850e+02, 1.7946e+02, 3.9010e+02, 2.1292e+02],\n",
       "         [3.7325e+02, 1.0877e+02, 3.9373e+02, 1.2988e+02],\n",
       "         [4.0022e+02, 2.3268e+02, 4.1789e+02, 2.4099e+02],\n",
       "         [3.6915e+02, 1.7912e+02, 3.8815e+02, 1.9356e+02],\n",
       "         [3.4315e+02, 2.1241e+02, 3.5134e+02, 2.2436e+02],\n",
       "         [2.5624e+02, 1.9758e+02, 2.7739e+02, 2.1523e+02],\n",
       "         [0.0000e+00, 1.7395e+02, 1.0614e+02, 2.8148e+02],\n",
       "         [4.2928e+02, 1.2527e+02, 4.7470e+02, 2.3075e+02],\n",
       "         [2.5720e+02, 1.7309e+02, 2.7879e+02, 1.9445e+02],\n",
       "         [3.4147e+02, 2.1478e+02, 3.5312e+02, 2.3449e+02],\n",
       "         [9.4709e+01, 1.3291e+02, 1.0261e+02, 1.5202e+02],\n",
       "         [2.9373e+02, 1.4510e+02, 3.0721e+02, 1.5990e+02],\n",
       "         [3.4748e+02, 2.2036e+02, 3.8554e+02, 2.7863e+02],\n",
       "         [1.0725e+00, 2.3230e+02, 5.0390e+01, 2.8500e+02],\n",
       "         [2.0688e+00, 1.4624e+02, 3.9843e+01, 1.6410e+02],\n",
       "         [3.0676e+02, 1.2468e+02, 3.4992e+02, 1.8748e+02],\n",
       "         [1.7033e+02, 5.3467e+01, 1.9804e+02, 7.6959e+01],\n",
       "         [3.6856e+02, 2.6003e+02, 4.9191e+02, 2.8500e+02],\n",
       "         [2.7512e+02, 1.7498e+02, 2.8728e+02, 2.0376e+02],\n",
       "         [3.4091e+02, 2.1119e+02, 3.4858e+02, 2.2407e+02],\n",
       "         [2.9609e+02, 1.6425e+02, 3.1851e+02, 1.9418e+02],\n",
       "         [3.9485e+02, 2.3288e+02, 4.2706e+02, 2.5591e+02],\n",
       "         [2.2383e+02, 2.1393e+02, 2.4608e+02, 2.4886e+02],\n",
       "         [7.2755e+01, 1.2300e+02, 1.0440e+02, 1.9417e+02],\n",
       "         [2.2195e+02, 1.5883e+02, 2.5116e+02, 1.8752e+02],\n",
       "         [2.0848e+02, 1.1399e+02, 2.2725e+02, 1.3137e+02],\n",
       "         [2.1270e+02, 1.3842e+02, 2.2897e+02, 1.5230e+02],\n",
       "         [2.5512e+02, 1.6079e+02, 2.8430e+02, 1.7381e+02],\n",
       "         [3.7281e+02, 2.3414e+02, 3.8754e+02, 2.5788e+02],\n",
       "         [1.0635e-01, 1.2633e+02, 5.4840e+01, 1.6137e+02],\n",
       "         [2.6962e+02, 1.2087e+02, 2.8832e+02, 1.4135e+02],\n",
       "         [4.4395e+02, 2.3540e+02, 4.8080e+02, 2.6784e+02],\n",
       "         [4.2736e+02, 1.2201e+02, 4.5372e+02, 1.5156e+02],\n",
       "         [2.2748e+02, 1.3397e+02, 2.3780e+02, 1.5130e+02],\n",
       "         [2.4733e+02, 1.6182e+02, 2.5682e+02, 1.7758e+02],\n",
       "         [2.0527e+02, 2.1855e+02, 2.7292e+02, 2.5644e+02],\n",
       "         [2.9431e+02, 1.4704e+02, 3.0896e+02, 1.6194e+02],\n",
       "         [4.0152e+02, 2.3095e+02, 4.2661e+02, 2.3895e+02],\n",
       "         [2.8544e+02, 1.3591e+02, 2.9319e+02, 1.4415e+02]],\n",
       "        grad_fn=<StackBackward>),\n",
       " 'labels': tensor([ 1,  1,  1,  1,  1,  1,  1,  1, 46,  1,  1,  1,  1,  1,  1, 62, 46,  1,\n",
       "         67,  1,  1, 47,  1, 46, 62,  1, 62,  1,  1, 84,  1, 62, 67,  1,  1,  1,\n",
       "          1, 46,  1,  1, 62, 62,  1, 67, 46, 46, 46, 44, 46, 72, 62,  1, 62, 62,\n",
       "         47,  1, 62, 67,  1,  1, 67, 62,  1, 59, 62, 46, 76,  1,  1, 62, 46, 32,\n",
       "         47, 46, 27, 62,  1, 16, 67, 47, 46, 62, 59, 47,  1, 62,  1, 62, 62, 46,\n",
       "         62,  1, 84,  1, 62, 62, 67, 67, 59, 62]),\n",
       " 'scores': tensor([0.9908, 0.9835, 0.9835, 0.9810, 0.9798, 0.9779, 0.9773, 0.9717, 0.9709,\n",
       "         0.9488, 0.9381, 0.9334, 0.9218, 0.9053, 0.8769, 0.8665, 0.8564, 0.8324,\n",
       "         0.8253, 0.8052, 0.7926, 0.7502, 0.7206, 0.7091, 0.7079, 0.7038, 0.6749,\n",
       "         0.6681, 0.6272, 0.6163, 0.6113, 0.6069, 0.5951, 0.5863, 0.5753, 0.5472,\n",
       "         0.5147, 0.4954, 0.4901, 0.4794, 0.4626, 0.4200, 0.4087, 0.3879, 0.3612,\n",
       "         0.3490, 0.3269, 0.3199, 0.3191, 0.3131, 0.3119, 0.3004, 0.2920, 0.2879,\n",
       "         0.2812, 0.2701, 0.2574, 0.2570, 0.2402, 0.2326, 0.2076, 0.1972, 0.1902,\n",
       "         0.1876, 0.1797, 0.1713, 0.1667, 0.1608, 0.1570, 0.1547, 0.1507, 0.1489,\n",
       "         0.1318, 0.1306, 0.1301, 0.1301, 0.1287, 0.1267, 0.1236, 0.1209, 0.1177,\n",
       "         0.1154, 0.1134, 0.1124, 0.1112, 0.1101, 0.1076, 0.1070, 0.1040, 0.1034,\n",
       "         0.0992, 0.0979, 0.0969, 0.0938, 0.0923, 0.0900, 0.0892, 0.0827, 0.0793,\n",
       "         0.0764], grad_fn=<IndexBackward>),\n",
       " 'masks': tensor([[[[0., 0., 0.,  ..., 0., 0., 0.],\n",
       "           [0., 0., 0.,  ..., 0., 0., 0.],\n",
       "           [0., 0., 0.,  ..., 0., 0., 0.],\n",
       "           ...,\n",
       "           [0., 0., 0.,  ..., 0., 0., 0.],\n",
       "           [0., 0., 0.,  ..., 0., 0., 0.],\n",
       "           [0., 0., 0.,  ..., 0., 0., 0.]]],\n",
       " \n",
       " \n",
       "         [[[0., 0., 0.,  ..., 0., 0., 0.],\n",
       "           [0., 0., 0.,  ..., 0., 0., 0.],\n",
       "           [0., 0., 0.,  ..., 0., 0., 0.],\n",
       "           ...,\n",
       "           [0., 0., 0.,  ..., 0., 0., 0.],\n",
       "           [0., 0., 0.,  ..., 0., 0., 0.],\n",
       "           [0., 0., 0.,  ..., 0., 0., 0.]]],\n",
       " \n",
       " \n",
       "         [[[0., 0., 0.,  ..., 0., 0., 0.],\n",
       "           [0., 0., 0.,  ..., 0., 0., 0.],\n",
       "           [0., 0., 0.,  ..., 0., 0., 0.],\n",
       "           ...,\n",
       "           [0., 0., 0.,  ..., 0., 0., 0.],\n",
       "           [0., 0., 0.,  ..., 0., 0., 0.],\n",
       "           [0., 0., 0.,  ..., 0., 0., 0.]]],\n",
       " \n",
       " \n",
       "         ...,\n",
       " \n",
       " \n",
       "         [[[0., 0., 0.,  ..., 0., 0., 0.],\n",
       "           [0., 0., 0.,  ..., 0., 0., 0.],\n",
       "           [0., 0., 0.,  ..., 0., 0., 0.],\n",
       "           ...,\n",
       "           [0., 0., 0.,  ..., 0., 0., 0.],\n",
       "           [0., 0., 0.,  ..., 0., 0., 0.],\n",
       "           [0., 0., 0.,  ..., 0., 0., 0.]]],\n",
       " \n",
       " \n",
       "         [[[0., 0., 0.,  ..., 0., 0., 0.],\n",
       "           [0., 0., 0.,  ..., 0., 0., 0.],\n",
       "           [0., 0., 0.,  ..., 0., 0., 0.],\n",
       "           ...,\n",
       "           [0., 0., 0.,  ..., 0., 0., 0.],\n",
       "           [0., 0., 0.,  ..., 0., 0., 0.],\n",
       "           [0., 0., 0.,  ..., 0., 0., 0.]]],\n",
       " \n",
       " \n",
       "         [[[0., 0., 0.,  ..., 0., 0., 0.],\n",
       "           [0., 0., 0.,  ..., 0., 0., 0.],\n",
       "           [0., 0., 0.,  ..., 0., 0., 0.],\n",
       "           ...,\n",
       "           [0., 0., 0.,  ..., 0., 0., 0.],\n",
       "           [0., 0., 0.,  ..., 0., 0., 0.],\n",
       "           [0., 0., 0.,  ..., 0., 0., 0.]]]], grad_fn=<UnsqueezeBackward0>)}"
      ]
     },
     "execution_count": 34,
     "metadata": {},
     "output_type": "execute_result"
    }
   ],
   "source": [
    "def predict(image):\n",
    "    model = tv.models.detection.maskrcnn_resnet50_fpn(pretrained=True).eval()\n",
    "    to_tensor = tv.transforms.ToTensor()\n",
    "    tensor = to_tensor(image)\n",
    "    pred = model([tensor])[0]\n",
    "    return pred\n",
    "\n",
    "labels = [\n",
    "    '__background__', 'person', 'bicycle', 'car', 'motorcycle', 'airplane', 'bus',\n",
    "    'train', 'truck', 'boat', 'traffic light', 'fire hydrant', 'N/A', 'stop sign',\n",
    "    'parking meter', 'bench', 'bird', 'cat', 'dog', 'horse', 'sheep', 'cow',\n",
    "    'elephant', 'bear', 'zebra', 'giraffe', 'N/A', 'backpack', 'umbrella', 'N/A', 'N/A',\n",
    "    'handbag', 'tie', 'suitcase', 'frisbee', 'skis', 'snowboard', 'sports ball',\n",
    "    'kite', 'baseball bat', 'baseball glove', 'skateboard', 'surfboard', 'tennis racket',\n",
    "    'bottle', 'N/A', 'wine glass', 'cup', 'fork', 'knife', 'spoon', 'bowl',\n",
    "    'banana', 'apple', 'sandwich', 'orange', 'broccoli', 'carrot', 'hot dog', 'pizza',\n",
    "    'donut', 'cake', 'chair', 'couch', 'potted plant', 'bed', 'N/A', 'dining table',\n",
    "    'N/A', 'N/A', 'toilet', 'N/A', 'tv', 'laptop', 'mouse', 'remote', 'keyboard', 'cell phone',\n",
    "    'microwave', 'oven', 'toaster', 'sink', 'refrigerator', 'N/A', 'book',\n",
    "    'clock', 'vase', 'scissors', 'teddy bear', 'hair drier', 'toothbrush'\n",
    "]\n",
    "\n",
    "pred = predict(images[idx])\n",
    "pred"
   ]
  },
  {
   "cell_type": "code",
   "execution_count": 39,
   "metadata": {},
   "outputs": [],
   "source": [
    "label_names = [labels[i] for i in pred['labels']]\n",
    "scores = pred['scores'].squeeze().tolist()\n",
    "masks = pred['masks']"
   ]
  },
  {
   "cell_type": "code",
   "execution_count": 40,
   "metadata": {},
   "outputs": [],
   "source": [
    "threshold = 0.5"
   ]
  },
  {
   "cell_type": "code",
   "execution_count": 41,
   "metadata": {},
   "outputs": [
    {
     "data": {
      "text/plain": [
       "{'book', 'chair', 'cup', 'dining table', 'person', 'wine glass'}"
      ]
     },
     "execution_count": 41,
     "metadata": {},
     "output_type": "execute_result"
    }
   ],
   "source": [
    "label_names = [ln for ln, score in zip(label_names, scores) if score > threshold]\n",
    "masks = [masks[i, :, :] for i, score in enumerate(scores) if score > threshold]\n",
    "\n",
    "set(label_names)"
   ]
  },
  {
   "cell_type": "code",
   "execution_count": 46,
   "metadata": {},
   "outputs": [],
   "source": [
    "mask_name = 'wine glass'"
   ]
  },
  {
   "cell_type": "code",
   "execution_count": 47,
   "metadata": {},
   "outputs": [],
   "source": [
    "base_image = images[idx]\n",
    "selected_masks = [mask for ln, mask in zip(label_names, masks) if ln == mask_name]"
   ]
  },
  {
   "cell_type": "code",
   "execution_count": 48,
   "metadata": {},
   "outputs": [
    {
     "data": {
      "text/plain": [
       "3"
      ]
     },
     "execution_count": 48,
     "metadata": {},
     "output_type": "execute_result"
    }
   ],
   "source": [
    "len(selected_masks)"
   ]
  },
  {
   "cell_type": "code",
   "execution_count": 62,
   "metadata": {},
   "outputs": [
    {
     "data": {
      "text/plain": [
       "[torch.Size([1, 285, 600]),\n",
       " torch.Size([1, 285, 600]),\n",
       " torch.Size([1, 285, 600])]"
      ]
     },
     "execution_count": 62,
     "metadata": {},
     "output_type": "execute_result"
    }
   ],
   "source": [
    "[m.shape for m in selected_masks]"
   ]
  },
  {
   "cell_type": "code",
   "execution_count": 65,
   "metadata": {},
   "outputs": [
    {
     "data": {
      "text/plain": [
       "[tensor(0.9940, grad_fn=<MaxBackward1>),\n",
       " tensor(0.9887, grad_fn=<MaxBackward1>),\n",
       " tensor(0.9994, grad_fn=<MaxBackward1>)]"
      ]
     },
     "execution_count": 65,
     "metadata": {},
     "output_type": "execute_result"
    }
   ],
   "source": [
    "[m.max() for m in selected_masks]"
   ]
  },
  {
   "cell_type": "code",
   "execution_count": 61,
   "metadata": {},
   "outputs": [
    {
     "data": {
      "text/plain": [
       "torch.Size([3, 1, 285, 600])"
      ]
     },
     "execution_count": 61,
     "metadata": {},
     "output_type": "execute_result"
    }
   ],
   "source": [
    "torch.stack(selected_masks).shape\n",
    "3 x 1 x 285 x 600"
   ]
  },
  {
   "cell_type": "code",
   "execution_count": 93,
   "metadata": {},
   "outputs": [
    {
     "data": {
      "text/plain": [
       "tensor([[[0., 0., 0.,  ..., 0., 0., 0.],\n",
       "         [0., 0., 0.,  ..., 0., 0., 0.],\n",
       "         [0., 0., 0.,  ..., 0., 0., 0.],\n",
       "         ...,\n",
       "         [0., 0., 0.,  ..., 0., 0., 0.],\n",
       "         [0., 0., 0.,  ..., 0., 0., 0.],\n",
       "         [0., 0., 0.,  ..., 0., 0., 0.]]], grad_fn=<MaxBackward0>)"
      ]
     },
     "execution_count": 93,
     "metadata": {},
     "output_type": "execute_result"
    }
   ],
   "source": [
    "final_mask = torch.stack(selected_masks).max(axis=0).values\n",
    "final_mask"
   ]
  },
  {
   "cell_type": "code",
   "execution_count": 102,
   "metadata": {},
   "outputs": [
    {
     "data": {
      "image/png": "[encoded data removed]",
      "text/plain": [
       "<Figure size 432x288 with 2 Axes>"
      ]
     },
     "metadata": {
      "needs_background": "light"
     },
     "output_type": "display_data"
    },
    {
     "data": {
      "image/png": "[encoded data removed]",
      "text/plain": [
       "<Figure size 432x288 with 2 Axes>"
      ]
     },
     "metadata": {
      "needs_background": "light"
     },
     "output_type": "display_data"
    },
    {
     "data": {
      "image/png": "[encoded data removed]",
      "text/plain": [
       "<Figure size 432x288 with 2 Axes>"
      ]
     },
     "metadata": {
      "needs_background": "light"
     },
     "output_type": "display_data"
    }
   ],
   "source": [
    "for mask in selected_masks:\n",
    "    sns.heatmap(mask.detach().numpy()[0])\n",
    "    plt.show()"
   ]
  },
  {
   "cell_type": "code",
   "execution_count": 97,
   "metadata": {},
   "outputs": [
    {
     "data": {
      "text/plain": [
       "<matplotlib.axes._subplots.AxesSubplot at 0x13e92a2b0>"
      ]
     },
     "execution_count": 97,
     "metadata": {},
     "output_type": "execute_result"
    },
    {
     "data": {
      "image/png": "[encoded data removed]",
      "text/plain": [
       "<Figure size 432x288 with 2 Axes>"
      ]
     },
     "metadata": {
      "needs_background": "light"
     },
     "output_type": "display_data"
    }
   ],
   "source": [
    "sns.heatmap(final_mask.detach().numpy()[0])"
   ]
  },
  {
   "cell_type": "code",
   "execution_count": 86,
   "metadata": {},
   "outputs": [
    {
     "ename": "TypeError",
     "evalue": "'module' object is not callable",
     "output_type": "error",
     "traceback": [
      "\u001b[0;31m------------------------------------------------\u001b[0m",
      "\u001b[0;31mTypeError\u001b[0m      Traceback (most recent call last)",
      "\u001b[0;32m<ipython-input-86-e07326685011>\u001b[0m in \u001b[0;36m<module>\u001b[0;34m\u001b[0m\n\u001b[1;32m      1\u001b[0m \u001b[0mtensor_to_pil\u001b[0m \u001b[0;34m=\u001b[0m \u001b[0mtv\u001b[0m\u001b[0;34m.\u001b[0m\u001b[0mtransforms\u001b[0m\u001b[0;34m.\u001b[0m\u001b[0mToPILImage\u001b[0m\u001b[0;34m\u001b[0m\u001b[0;34m\u001b[0m\u001b[0m\n\u001b[0;32m----> 2\u001b[0;31m \u001b[0mImage\u001b[0m\u001b[0;34m(\u001b[0m\u001b[0mtensor_to_pil\u001b[0m\u001b[0;34m(\u001b[0m\u001b[0mfinal_mask\u001b[0m\u001b[0;34m)\u001b[0m\u001b[0;34m)\u001b[0m\u001b[0;34m\u001b[0m\u001b[0;34m\u001b[0m\u001b[0m\n\u001b[0m",
      "\u001b[0;31mTypeError\u001b[0m: 'module' object is not callable"
     ]
    }
   ],
   "source": [
    "tensor_to_pil = tv.transforms.ToPILImage\n",
    "Image(tensor_to_pil(final_mask))"
   ]
  },
  {
   "cell_type": "code",
   "execution_count": 103,
   "metadata": {},
   "outputs": [
    {
     "data": {
      "text/plain": [
       "(285, 600, 1)"
      ]
     },
     "execution_count": 103,
     "metadata": {},
     "output_type": "execute_result"
    }
   ],
   "source": [
    "mask_image = final_mask.detach().numpy().transpose(1, 2, 0)\n",
    "mask_image.shape"
   ]
  },
  {
   "cell_type": "code",
   "execution_count": 104,
   "metadata": {},
   "outputs": [],
   "source": [
    "base_image = images[idx]"
   ]
  },
  {
   "cell_type": "code",
   "execution_count": 116,
   "metadata": {},
   "outputs": [
    {
     "data": {
      "text/plain": [
       "array([[[0.28078431, 0.22588235, 0.09882353],\n",
       "        [0.27921569, 0.22431373, 0.0972549 ],\n",
       "        [0.27921569, 0.22431373, 0.0972549 ],\n",
       "        ...,\n",
       "        [0.24941176, 0.09411765, 0.06431373],\n",
       "        [0.24470588, 0.08941176, 0.05960784],\n",
       "        [0.24      , 0.08470588, 0.05490196]],\n",
       "\n",
       "       [[0.28235294, 0.22588235, 0.09411765],\n",
       "        [0.28078431, 0.22431373, 0.08941176],\n",
       "        [0.28078431, 0.22431373, 0.08941176],\n",
       "        ...,\n",
       "        [0.24941176, 0.09411765, 0.06431373],\n",
       "        [0.24313725, 0.08784314, 0.05803922],\n",
       "        [0.23686275, 0.08156863, 0.05176471]],\n",
       "\n",
       "       [[0.28235294, 0.22745098, 0.08      ],\n",
       "        [0.28078431, 0.22588235, 0.07843137],\n",
       "        [0.28078431, 0.22588235, 0.07843137],\n",
       "        ...,\n",
       "        [0.24784314, 0.09254902, 0.0627451 ],\n",
       "        [0.24156863, 0.08627451, 0.05647059],\n",
       "        [0.23372549, 0.07843137, 0.04862745]],\n",
       "\n",
       "       ...,\n",
       "\n",
       "       [[0.00784314, 0.01254902, 0.04235294],\n",
       "        [0.00784314, 0.01254902, 0.04235294],\n",
       "        [0.00784314, 0.01254902, 0.04235294],\n",
       "        ...,\n",
       "        [0.10196078, 0.02823529, 0.04078431],\n",
       "        [0.09882353, 0.02509804, 0.03764706],\n",
       "        [0.09568627, 0.02196078, 0.0345098 ]],\n",
       "\n",
       "       [[0.00784314, 0.01254902, 0.04235294],\n",
       "        [0.00784314, 0.01254902, 0.04235294],\n",
       "        [0.00784314, 0.01254902, 0.04235294],\n",
       "        ...,\n",
       "        [0.10509804, 0.02666667, 0.04078431],\n",
       "        [0.10196078, 0.02352941, 0.03764706],\n",
       "        [0.09882353, 0.02039216, 0.0345098 ]],\n",
       "\n",
       "       [[0.00784314, 0.01254902, 0.04235294],\n",
       "        [0.00784314, 0.01254902, 0.04235294],\n",
       "        [0.00784314, 0.01254902, 0.04235294],\n",
       "        ...,\n",
       "        [0.10509804, 0.02666667, 0.04078431],\n",
       "        [0.10196078, 0.02352941, 0.03764706],\n",
       "        [0.09882353, 0.02039216, 0.0345098 ]]])"
      ]
     },
     "execution_count": 116,
     "metadata": {},
     "output_type": "execute_result"
    }
   ],
   "source": [
    "(np.array(base_image) / 255.) * 0.4 + mask_image * 0.6"
   ]
  },
  {
   "cell_type": "code",
   "execution_count": 79,
   "metadata": {},
   "outputs": [],
   "source": [
    "import numpy as np"
   ]
  },
  {
   "cell_type": "code",
   "execution_count": 81,
   "metadata": {},
   "outputs": [
    {
     "ename": "TypeError",
     "evalue": "Cannot handle this data type: (1, 1, 1), <f4",
     "output_type": "error",
     "traceback": [
      "\u001b[0;31m------------------------------------------------\u001b[0m",
      "\u001b[0;31mKeyError\u001b[0m       Traceback (most recent call last)",
      "\u001b[0;32m~/.pyenv/versions/3.8.1/envs/streamlit_demo/lib/python3.8/site-packages/PIL/Image.py\u001b[0m in \u001b[0;36mfromarray\u001b[0;34m(obj, mode)\u001b[0m\n\u001b[1;32m   2748\u001b[0m         \u001b[0;32mtry\u001b[0m\u001b[0;34m:\u001b[0m\u001b[0;34m\u001b[0m\u001b[0;34m\u001b[0m\u001b[0m\n\u001b[0;32m-> 2749\u001b[0;31m             \u001b[0mmode\u001b[0m\u001b[0;34m,\u001b[0m \u001b[0mrawmode\u001b[0m \u001b[0;34m=\u001b[0m \u001b[0m_fromarray_typemap\u001b[0m\u001b[0;34m[\u001b[0m\u001b[0mtypekey\u001b[0m\u001b[0;34m]\u001b[0m\u001b[0;34m\u001b[0m\u001b[0;34m\u001b[0m\u001b[0m\n\u001b[0m\u001b[1;32m   2750\u001b[0m         \u001b[0;32mexcept\u001b[0m \u001b[0mKeyError\u001b[0m \u001b[0;32mas\u001b[0m \u001b[0me\u001b[0m\u001b[0;34m:\u001b[0m\u001b[0;34m\u001b[0m\u001b[0;34m\u001b[0m\u001b[0m\n",
      "\u001b[0;31mKeyError\u001b[0m: ((1, 1, 1), '<f4')",
      "\nThe above exception was the direct cause of the following exception:\n",
      "\u001b[0;31mTypeError\u001b[0m      Traceback (most recent call last)",
      "\u001b[0;32m<ipython-input-81-21cefa8cab20>\u001b[0m in \u001b[0;36m<module>\u001b[0;34m\u001b[0m\n\u001b[0;32m----> 1\u001b[0;31m \u001b[0mImage\u001b[0m\u001b[0;34m.\u001b[0m\u001b[0mfromarray\u001b[0m\u001b[0;34m(\u001b[0m\u001b[0mmask_image\u001b[0m\u001b[0;34m*\u001b[0m\u001b[0;36m255\u001b[0m\u001b[0;34m)\u001b[0m\u001b[0;34m\u001b[0m\u001b[0;34m\u001b[0m\u001b[0m\n\u001b[0m",
      "\u001b[0;32m~/.pyenv/versions/3.8.1/envs/streamlit_demo/lib/python3.8/site-packages/PIL/Image.py\u001b[0m in \u001b[0;36mfromarray\u001b[0;34m(obj, mode)\u001b[0m\n\u001b[1;32m   2749\u001b[0m             \u001b[0mmode\u001b[0m\u001b[0;34m,\u001b[0m \u001b[0mrawmode\u001b[0m \u001b[0;34m=\u001b[0m \u001b[0m_fromarray_typemap\u001b[0m\u001b[0;34m[\u001b[0m\u001b[0mtypekey\u001b[0m\u001b[0;34m]\u001b[0m\u001b[0;34m\u001b[0m\u001b[0;34m\u001b[0m\u001b[0m\n\u001b[1;32m   2750\u001b[0m         \u001b[0;32mexcept\u001b[0m \u001b[0mKeyError\u001b[0m \u001b[0;32mas\u001b[0m \u001b[0me\u001b[0m\u001b[0;34m:\u001b[0m\u001b[0;34m\u001b[0m\u001b[0;34m\u001b[0m\u001b[0m\n\u001b[0;32m-> 2751\u001b[0;31m             \u001b[0;32mraise\u001b[0m \u001b[0mTypeError\u001b[0m\u001b[0;34m(\u001b[0m\u001b[0;34m\"Cannot handle this data type: %s, %s\"\u001b[0m \u001b[0;34m%\u001b[0m \u001b[0mtypekey\u001b[0m\u001b[0;34m)\u001b[0m \u001b[0;32mfrom\u001b[0m \u001b[0me\u001b[0m\u001b[0;34m\u001b[0m\u001b[0;34m\u001b[0m\u001b[0m\n\u001b[0m\u001b[1;32m   2752\u001b[0m     \u001b[0;32melse\u001b[0m\u001b[0;34m:\u001b[0m\u001b[0;34m\u001b[0m\u001b[0;34m\u001b[0m\u001b[0m\n\u001b[1;32m   2753\u001b[0m         \u001b[0mrawmode\u001b[0m \u001b[0;34m=\u001b[0m \u001b[0mmode\u001b[0m\u001b[0;34m\u001b[0m\u001b[0;34m\u001b[0m\u001b[0m\n",
      "\u001b[0;31mTypeError\u001b[0m: Cannot handle this data type: (1, 1, 1), <f4"
     ]
    }
   ],
   "source": [
    "Image.fromarray(mask_image*255)"
   ]
  },
  {
   "cell_type": "code",
   "execution_count": 3,
   "metadata": {},
   "outputs": [],
   "source": [
    "model = tv.models.detection.maskrcnn_resnet50_fpn(pretrained=True).eval()"
   ]
  },
  {
   "cell_type": "code",
   "execution_count": 15,
   "metadata": {},
   "outputs": [
    {
     "data": {
      "text/plain": [
       "[PosixPath('imgs/dylan.jpeg'),\n",
       " PosixPath('imgs/soiree.jpeg'),\n",
       " PosixPath('imgs/another_soiree.jpeg')]"
      ]
     },
     "execution_count": 15,
     "metadata": {},
     "output_type": "execute_result"
    }
   ],
   "source": [
    "filepaths = list(Path('imgs/').glob('*.jpeg'))\n",
    "filepaths\n",
    "# filenames = [fp.name for fp in filepaths]"
   ]
  },
  {
   "cell_type": "code",
   "execution_count": 13,
   "metadata": {},
   "outputs": [
    {
     "data": {
      "text/plain": [
       "[]"
      ]
     },
     "execution_count": 13,
     "metadata": {},
     "output_type": "execute_result"
    }
   ],
   "source": [
    "filepaths"
   ]
  },
  {
   "cell_type": "code",
   "execution_count": 5,
   "metadata": {},
   "outputs": [
    {
     "data": {
      "text/plain": [
       "[]"
      ]
     },
     "execution_count": 5,
     "metadata": {},
     "output_type": "execute_result"
    }
   ],
   "source": [
    "[load_image(fp) for fp in list(filepaths)]"
   ]
  },
  {
   "cell_type": "code",
   "execution_count": 7,
   "metadata": {},
   "outputs": [
    {
     "data": {
      "text/plain": [
       "[]"
      ]
     },
     "execution_count": 7,
     "metadata": {},
     "output_type": "execute_result"
    }
   ],
   "source": [
    "[print(fp) for fp in filepaths]"
   ]
  },
  {
   "cell_type": "code",
   "execution_count": 21,
   "metadata": {},
   "outputs": [
    {
     "name": "stdout",
     "output_type": "stream",
     "text": [
      "another_soiree.jpeg dylan.jpeg          soiree.jpeg\n"
     ]
    }
   ],
   "source": [
    "!ls imgs"
   ]
  },
  {
   "cell_type": "code",
   "execution_count": 23,
   "metadata": {},
   "outputs": [
    {
     "ename": "FileNotFoundError",
     "evalue": "[Errno 2] No such file or directory: ''",
     "output_type": "error",
     "traceback": [
      "\u001b[0;31m--------------------------------------------------\u001b[0m",
      "\u001b[0;31mFileNotFoundError\u001b[0mTraceback (most recent call last)",
      "\u001b[0;32m<ipython-input-23-be22286e9e21>\u001b[0m in \u001b[0;36m<module>\u001b[0;34m\u001b[0m\n\u001b[0;32m----> 1\u001b[0;31m \u001b[0mImageFolder\u001b[0m\u001b[0;34m(\u001b[0m\u001b[0;34m''\u001b[0m\u001b[0;34m)\u001b[0m\u001b[0;34m\u001b[0m\u001b[0;34m\u001b[0m\u001b[0m\n\u001b[0m",
      "\u001b[0;32m~/.pyenv/versions/3.8.1/envs/streamlit_demo/lib/python3.8/site-packages/torchvision/datasets/folder.py\u001b[0m in \u001b[0;36m__init__\u001b[0;34m(self, root, transform, target_transform, loader, is_valid_file)\u001b[0m\n\u001b[1;32m    201\u001b[0m     def __init__(self, root, transform=None, target_transform=None,\n\u001b[1;32m    202\u001b[0m                  loader=default_loader, is_valid_file=None):\n\u001b[0;32m--> 203\u001b[0;31m         super(ImageFolder, self).__init__(root, loader, IMG_EXTENSIONS if is_valid_file is None else None,\n\u001b[0m\u001b[1;32m    204\u001b[0m                                           \u001b[0mtransform\u001b[0m\u001b[0;34m=\u001b[0m\u001b[0mtransform\u001b[0m\u001b[0;34m,\u001b[0m\u001b[0;34m\u001b[0m\u001b[0;34m\u001b[0m\u001b[0m\n\u001b[1;32m    205\u001b[0m                                           \u001b[0mtarget_transform\u001b[0m\u001b[0;34m=\u001b[0m\u001b[0mtarget_transform\u001b[0m\u001b[0;34m,\u001b[0m\u001b[0;34m\u001b[0m\u001b[0;34m\u001b[0m\u001b[0m\n",
      "\u001b[0;32m~/.pyenv/versions/3.8.1/envs/streamlit_demo/lib/python3.8/site-packages/torchvision/datasets/folder.py\u001b[0m in \u001b[0;36m__init__\u001b[0;34m(self, root, loader, extensions, transform, target_transform, is_valid_file)\u001b[0m\n\u001b[1;32m     92\u001b[0m         super(DatasetFolder, self).__init__(root, transform=transform,\n\u001b[1;32m     93\u001b[0m                                             target_transform=target_transform)\n\u001b[0;32m---> 94\u001b[0;31m         \u001b[0mclasses\u001b[0m\u001b[0;34m,\u001b[0m \u001b[0mclass_to_idx\u001b[0m \u001b[0;34m=\u001b[0m \u001b[0mself\u001b[0m\u001b[0;34m.\u001b[0m\u001b[0m_find_classes\u001b[0m\u001b[0;34m(\u001b[0m\u001b[0mself\u001b[0m\u001b[0;34m.\u001b[0m\u001b[0mroot\u001b[0m\u001b[0;34m)\u001b[0m\u001b[0;34m\u001b[0m\u001b[0;34m\u001b[0m\u001b[0m\n\u001b[0m\u001b[1;32m     95\u001b[0m         \u001b[0msamples\u001b[0m \u001b[0;34m=\u001b[0m \u001b[0mmake_dataset\u001b[0m\u001b[0;34m(\u001b[0m\u001b[0mself\u001b[0m\u001b[0;34m.\u001b[0m\u001b[0mroot\u001b[0m\u001b[0;34m,\u001b[0m \u001b[0mclass_to_idx\u001b[0m\u001b[0;34m,\u001b[0m \u001b[0mextensions\u001b[0m\u001b[0;34m,\u001b[0m \u001b[0mis_valid_file\u001b[0m\u001b[0;34m)\u001b[0m\u001b[0;34m\u001b[0m\u001b[0;34m\u001b[0m\u001b[0m\n\u001b[1;32m     96\u001b[0m         \u001b[0;32mif\u001b[0m \u001b[0mlen\u001b[0m\u001b[0;34m(\u001b[0m\u001b[0msamples\u001b[0m\u001b[0;34m)\u001b[0m \u001b[0;34m==\u001b[0m \u001b[0;36m0\u001b[0m\u001b[0;34m:\u001b[0m\u001b[0;34m\u001b[0m\u001b[0;34m\u001b[0m\u001b[0m\n",
      "\u001b[0;32m~/.pyenv/versions/3.8.1/envs/streamlit_demo/lib/python3.8/site-packages/torchvision/datasets/folder.py\u001b[0m in \u001b[0;36m_find_classes\u001b[0;34m(self, dir)\u001b[0m\n\u001b[1;32m    119\u001b[0m             \u001b[0mNo\u001b[0m \u001b[0;32mclass\u001b[0m \u001b[0;32mis\u001b[0m \u001b[0ma\u001b[0m \u001b[0msubdirectory\u001b[0m \u001b[0mof\u001b[0m \u001b[0manother\u001b[0m\u001b[0;34m.\u001b[0m\u001b[0;34m\u001b[0m\u001b[0;34m\u001b[0m\u001b[0m\n\u001b[1;32m    120\u001b[0m         \"\"\"\n\u001b[0;32m--> 121\u001b[0;31m         \u001b[0mclasses\u001b[0m \u001b[0;34m=\u001b[0m \u001b[0;34m[\u001b[0m\u001b[0md\u001b[0m\u001b[0;34m.\u001b[0m\u001b[0mname\u001b[0m \u001b[0;32mfor\u001b[0m \u001b[0md\u001b[0m \u001b[0;32min\u001b[0m \u001b[0mos\u001b[0m\u001b[0;34m.\u001b[0m\u001b[0mscandir\u001b[0m\u001b[0;34m(\u001b[0m\u001b[0mdir\u001b[0m\u001b[0;34m)\u001b[0m \u001b[0;32mif\u001b[0m \u001b[0md\u001b[0m\u001b[0;34m.\u001b[0m\u001b[0mis_dir\u001b[0m\u001b[0;34m(\u001b[0m\u001b[0;34m)\u001b[0m\u001b[0;34m]\u001b[0m\u001b[0;34m\u001b[0m\u001b[0;34m\u001b[0m\u001b[0m\n\u001b[0m\u001b[1;32m    122\u001b[0m         \u001b[0mclasses\u001b[0m\u001b[0;34m.\u001b[0m\u001b[0msort\u001b[0m\u001b[0;34m(\u001b[0m\u001b[0;34m)\u001b[0m\u001b[0;34m\u001b[0m\u001b[0;34m\u001b[0m\u001b[0m\n\u001b[1;32m    123\u001b[0m         \u001b[0mclass_to_idx\u001b[0m \u001b[0;34m=\u001b[0m \u001b[0;34m{\u001b[0m\u001b[0mclasses\u001b[0m\u001b[0;34m[\u001b[0m\u001b[0mi\u001b[0m\u001b[0;34m]\u001b[0m\u001b[0;34m:\u001b[0m \u001b[0mi\u001b[0m \u001b[0;32mfor\u001b[0m \u001b[0mi\u001b[0m \u001b[0;32min\u001b[0m \u001b[0mrange\u001b[0m\u001b[0;34m(\u001b[0m\u001b[0mlen\u001b[0m\u001b[0;34m(\u001b[0m\u001b[0mclasses\u001b[0m\u001b[0;34m)\u001b[0m\u001b[0;34m)\u001b[0m\u001b[0;34m}\u001b[0m\u001b[0;34m\u001b[0m\u001b[0;34m\u001b[0m\u001b[0m\n",
      "\u001b[0;31mFileNotFoundError\u001b[0m: [Errno 2] No such file or directory: ''"
     ]
    }
   ],
   "source": [
    "Photo('')"
   ]
  },
  {
   "cell_type": "code",
   "execution_count": null,
   "metadata": {},
   "outputs": [],
   "source": []
  }
 ],
 "metadata": {
  "kernelspec": {
   "display_name": "Python 3",
   "language": "python",
   "name": "python3"
  },
  "language_info": {
   "codemirror_mode": {
    "name": "ipython",
    "version": 3
   },
   "file_extension": ".py",
   "mimetype": "text/x-python",
   "name": "python",
   "nbconvert_exporter": "python",
   "pygments_lexer": "ipython3",
   "version": "3.8.1"
  }
 },
 "nbformat": 4,
 "nbformat_minor": 4
}
